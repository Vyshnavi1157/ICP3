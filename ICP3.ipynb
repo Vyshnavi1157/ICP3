{
 "cells": [
  {
   "cell_type": "code",
   "execution_count": null,
   "id": "8395bcd5",
   "metadata": {},
   "outputs": [],
   "source": [
    "                                Neural Networks & Deep Learning - ICP3"
   ]
  },
  {
   "cell_type": "code",
   "execution_count": 7,
   "id": "18fa9afb",
   "metadata": {},
   "outputs": [
    {
     "name": "stdout",
     "output_type": "stream",
     "text": [
      "Average salary: 76250.0\n",
      "Total number of employees: 4\n"
     ]
    }
   ],
   "source": [
    "# Question 1\n",
    "\n",
    "class Employee:\n",
    "    num_employees = 0\n",
    "\n",
    "    def __init__(self, name, family, salary, department):\n",
    "        self.name = name\n",
    "        self.family = family\n",
    "        self.salary = salary\n",
    "        self.department = department\n",
    "        Employee.num_employees += 1\n",
    "\n",
    "    @staticmethod\n",
    "    def average_salary(employees):\n",
    "        total_salary = sum(emp.salary for emp in employees)\n",
    "        return total_salary / len(employees)\n",
    "\n",
    "class FulltimeEmployee(Employee):\n",
    "    def __init__(self, name, family, salary, department, experience):\n",
    "        super().__init__(name, family, salary, department)\n",
    "        self.experience = experience\n",
    "\n",
    "employee1 = Employee(\"John Doe\", \"Family A\", 60000, \"HR\")\n",
    "employee2 = Employee(\"Jane Smith\", \"Family B\", 75000, \"Finance\")\n",
    "\n",
    "fulltime_employee1 = FulltimeEmployee(\"Alice Johnson\", \"Family C\", 80000, \"IT\", 3)\n",
    "fulltime_employee2 = FulltimeEmployee(\"Bob Williams\", \"Family D\", 90000, \"Engineering\", 5)\n",
    "\n",
    "employees = [employee1, employee2, fulltime_employee1, fulltime_employee2]\n",
    "avg_salary = Employee.average_salary(employees)\n",
    "\n",
    "print(\"Average salary:\", avg_salary)\n",
    "print(\"Total number of employees:\", Employee.num_employees)"
   ]
  },
  {
   "cell_type": "code",
   "execution_count": 8,
   "id": "9d06d1fc",
   "metadata": {},
   "outputs": [
    {
     "name": "stdout",
     "output_type": "stream",
     "text": [
      "Original array:\n",
      "[12.46456192  3.69062693  5.2142561  14.73363379 10.00718565  7.9762804\n",
      "  3.19262257 17.86598714 11.35888827  5.01449712 12.40118574 15.7919122\n",
      " 17.14824145 12.84570487  7.41636457  2.21262812  7.23344263  7.87722674\n",
      " 18.65313592 14.96393701]\n",
      "\n",
      "Reshaped array:\n",
      "[[12.46456192  3.69062693  5.2142561   0.         10.00718565]\n",
      " [ 7.9762804   3.19262257  0.         11.35888827  5.01449712]\n",
      " [12.40118574 15.7919122   0.         12.84570487  7.41636457]\n",
      " [ 2.21262812  7.23344263  7.87722674  0.         14.96393701]]\n"
     ]
    }
   ],
   "source": [
    "#Question 2 \n",
    "\n",
    "import numpy as np\n",
    "random_vector = np.random.uniform(1, 20, size=20)\n",
    "print(\"Original array:\")\n",
    "print(random_vector)\n",
    "\n",
    "reshaped_array = random_vector.reshape(4, 5)\n",
    "\n",
    "max_indices = np.argmax(reshaped_array, axis=1)\n",
    "\n",
    "reshaped_array[np.arange(4), max_indices] = 0\n",
    "\n",
    "print(\"\\nReshaped array:\")\n",
    "print(reshaped_array)"
   ]
  },
  {
   "cell_type": "code",
   "execution_count": null,
   "id": "10a9fd27",
   "metadata": {},
   "outputs": [],
   "source": []
  }
 ],
 "metadata": {
  "kernelspec": {
   "display_name": "Python 3 (ipykernel)",
   "language": "python",
   "name": "python3"
  },
  "language_info": {
   "codemirror_mode": {
    "name": "ipython",
    "version": 3
   },
   "file_extension": ".py",
   "mimetype": "text/x-python",
   "name": "python",
   "nbconvert_exporter": "python",
   "pygments_lexer": "ipython3",
   "version": "3.11.5"
  }
 },
 "nbformat": 4,
 "nbformat_minor": 5
}
